{
 "cells": [
  {
   "cell_type": "markdown",
   "metadata": {},
   "source": [
    "## Test dataset for C2B camera\n",
    "\n",
    "+ 2019.06.05\n",
    "+ camera pattern (all 0 -> all light to bucket1)\n",
    "+ 4 projector patterns consisting of spatial sinusoids\n",
    "    + `Sinusoids-freq=04_bins=24_subframes=04/`\n",
    "    + 96 pattern images -> 24/frame\n",
    "+ 10 static scenes, (1000 frames/scene)\n",
    "+ 60 ms exposure\n"
   ]
  },
  {
   "cell_type": "code",
   "execution_count": null,
   "metadata": {},
   "outputs": [],
   "source": [
    "import sys; sys.path.append('..')\n",
    "import demosaicing as dm\n",
    "import importlib; importlib.reload(dm)"
   ]
  },
  {
   "cell_type": "code",
   "execution_count": null,
   "metadata": {},
   "outputs": [],
   "source": [
    "import glob\n",
    "import os\n",
    "import cv2 as cv\n",
    "import numpy as np\n",
    "import matplotlib.pyplot as plt\n",
    "plt.rcParams['figure.figsize'] = (20,20)"
   ]
  },
  {
   "cell_type": "code",
   "execution_count": null,
   "metadata": {},
   "outputs": [],
   "source": [
    "def show_grayscale(img, description=''):\n",
    "    if len(np.shape(img)) == 2 or np.shape(img)[2] == 1:\n",
    "        img = np.tile(img[:,:,np.newaxis],(1,1,3))\n",
    "\n",
    "    img = plt.imshow(img, interpolation='none')\n",
    "    plt.axis('off')\n",
    "    plt.title(description)\n",
    "    \n",
    "\n",
    "def show_grayscales(images, descriptions=[], layouts=''):\n",
    "\n",
    "    layouts = \"{}1\".format(len(images)) if layouts == '' else layouts\n",
    "    descriptions = ['' for _ in range(len(images))] if descriptions == [] else descriptions\n",
    "\n",
    "    for i,img in enumerate(images):\n",
    "        plt.subplot(\"{}{}\".format(layouts, i+1))\n",
    "        show_grayscale(img, descriptions[i])\n",
    "\n",
    "    plt.show()"
   ]
  },
  {
   "cell_type": "code",
   "execution_count": null,
   "metadata": {},
   "outputs": [],
   "source": [
    "topdir = \"../data/exp60\"\n",
    "n_patterns = 4\n",
    "n_frames_total = 1000\n",
    "n_frames_per_pattern = int(n_frames_total/n_patterns)\n",
    "# n_frames_per_pattern = 20\n",
    "imgsize = (176, 288)"
   ]
  },
  {
   "cell_type": "code",
   "execution_count": null,
   "metadata": {},
   "outputs": [],
   "source": [
    "scenes = [x for x in os.listdir(topdir)[:2] if not x.startswith('.')]\n",
    "scenes = {k: f'{os.path.join(topdir, k)}/bucket1*.png' for k in scenes}\n",
    "scenes = {k: sorted(glob.glob(v)) for k,v in scenes.items()}\n",
    "assert(all([len(v) == n_frames_total for k,v in scenes.items()]))\n",
    "\n",
    "avgs = {k: None for k in scenes.keys()}\n",
    "for k,s in scenes.items():\n",
    "    patterns = [[s[x] for x in list(np.arange(n_frames_total)) if x%n_patterns == i] \\\n",
    "                for i in range(n_patterns)]\n",
    "    \n",
    "    # shape: (4, 176, 288, n_frames_per_pattern)\n",
    "    video = np.zeros((n_patterns,*imgsize,n_frames_per_pattern), dtype=np.uint8)\n",
    "    for i,a_pattern in enumerate(patterns):\n",
    "        for j,img in enumerate(a_pattern[:n_frames_per_pattern]):\n",
    "            video[i,:,:,j] = cv.imread(img, cv.IMREAD_GRAYSCALE)\n",
    "            \n",
    "    video = np.mean(video/255., axis=3)\n",
    "    video = (np.clip(video,0,1)*255).astype(np.uint8)\n",
    "    avgs[k] = video\n",
    "\n",
    "for k,v in avgs.items():\n",
    "    patterns = [v[i,:,:] for i in range(n_patterns)] + [cv.imread(scenes['candle'][0], cv.IMREAD_GRAYSCALE)]\n",
    "    desc = [f'object={k} pattern={i}' for i in range(n_patterns)] + ['1 shot']\n",
    "#     for i in range(n_patterns):\n",
    "#         show_grayscale(v[i,:,:], f'object={k} pattern={i}')\n",
    "    show_grayscales(patterns, desc, layouts='32')\n",
    "#     show_grayscale(cv.imread(scenes['candle'][0], cv.IMREAD_GRAYSCALE), '1 shot')\n"
   ]
  },
  {
   "cell_type": "code",
   "execution_count": null,
   "metadata": {},
   "outputs": [],
   "source": [
    "img = cv.imread(scenes['candle'][0], cv.IMREAD_GRAYSCALE)\n",
    "show_grayscale(img)\n",
    "np.shape(img)"
   ]
  },
  {
   "cell_type": "code",
   "execution_count": null,
   "metadata": {},
   "outputs": [],
   "source": [
    "n_frames/n_patterns == 250"
   ]
  },
  {
   "cell_type": "code",
   "execution_count": null,
   "metadata": {},
   "outputs": [],
   "source": []
  }
 ],
 "metadata": {
  "kernelspec": {
   "display_name": "Python [conda env:cv_project] *",
   "language": "python",
   "name": "conda-env-cv_project-py"
  },
  "language_info": {
   "codemirror_mode": {
    "name": "ipython",
    "version": 3
   },
   "file_extension": ".py",
   "mimetype": "text/x-python",
   "name": "python",
   "nbconvert_exporter": "python",
   "pygments_lexer": "ipython3",
   "version": "3.7.3"
  }
 },
 "nbformat": 4,
 "nbformat_minor": 2
}
