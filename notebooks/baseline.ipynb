{
 "cells": [
  {
   "cell_type": "code",
   "execution_count": null,
   "metadata": {},
   "outputs": [],
   "source": [
    "import sys; sys.path.append('..')\n",
    "import demosaicing as dm\n",
    "import importlib; importlib.reload(dm)\n",
    "\n",
    "import os\n",
    "import cv2 as cv\n",
    "import numpy as np\n",
    "import matplotlib.pyplot as plt\n",
    "plt.rcParams['figure.figsize'] = (20,20)"
   ]
  },
  {
   "cell_type": "code",
   "execution_count": null,
   "metadata": {},
   "outputs": [],
   "source": [
    "kodak_dir = \"../data/kodak/\"\n",
    "kodak_images = list(map(lambda x: f'{kodak_dir}{x}', os.listdir(kodak_dir)))\n",
    "kodak = list(map(lambda x: cv.imread(x, -1), kodak_images))\n",
    "crop = slice(500,600),slice(300,400)\n",
    "dm.show_images([kodak[17], kodak[17][crop]], layouts='12', bgr2rgb=True)"
   ]
  },
  {
   "cell_type": "code",
   "execution_count": null,
   "metadata": {},
   "outputs": [],
   "source": [
    "interp = {\n",
    "    'original': kodak[17].copy()\n",
    "}"
   ]
  },
  {
   "cell_type": "markdown",
   "metadata": {},
   "source": [
    "## Spatial downsampling\n",
    "\n",
    "Spatially downsample according to bayer pattern \n",
    "\n",
    "$$\n",
    "B \\quad G\n",
    "$$\n",
    "$$\n",
    "G \\quad R\n",
    "$$"
   ]
  },
  {
   "cell_type": "code",
   "execution_count": null,
   "metadata": {},
   "outputs": [],
   "source": [
    "img = np.ones((100,100,3), dtype=np.uint8) + 254\n",
    "dm.show_images(list(map(lambda i: dm.color_channel(img,i), [0,1,2])), layouts='13', bgr2rgb=True)"
   ]
  },
  {
   "cell_type": "code",
   "execution_count": null,
   "metadata": {},
   "outputs": [],
   "source": [
    "img = np.ones((100,100,3), dtype=np.uint8) + 254\n",
    "img = dm.bayer_downsample(img)\n",
    "dm.show_images(list(map(lambda i: dm.color_channel(img,i), [0,1,2])), layouts='13', bgr2rgb=True)"
   ]
  },
  {
   "cell_type": "code",
   "execution_count": null,
   "metadata": {
    "scrolled": true
   },
   "outputs": [],
   "source": [
    "lh = dm.bayer_downsample(kodak[17])\n",
    "lhc = lh[350:400,200:250,:]\n",
    "dm.show_images([*list(map(lambda i: dm.color_channel(lhc,i), [0,1,2])), lhc], layouts='14', bgr2rgb=True)"
   ]
  },
  {
   "cell_type": "markdown",
   "metadata": {},
   "source": [
    "# bilinear interpolation \n",
    "\n",
    "+ http://www.dmi.unict.it/~battiato/mm1112/Parte%207.3%20%20-%20Demosaicing.pdf\n",
    "\n",
    "The interpolated green intensity $G_{i,j}$ is simply the average of its immediate neighbors\n",
    "\n",
    "$$\n",
    "G_{i,j} = \\frac{1}{4} \\left( G_{i-1,j} + G_{i+1,j} + G_{i,j-1} + G_{i,j+1} \\right)\n",
    "$$\n",
    "\n",
    "Similarly for red/blue intensities. The interpolation proceeds independently within each channel.\n",
    "\n",
    "We can efficiently implement this method by convolution with 3x3 kernels over each of 3 color channels\n",
    "\n",
    "$$\n",
    "K_G = \\frac{1}{4} \\begin{bmatrix} 0&1&0 \\\\ 1&4&1 \\\\ 0&1&0 \\end{bmatrix}\n",
    "\\quad\\quad\n",
    "K_R = K_B = \\frac{1}{4} \\begin{bmatrix} 1&2&1 \\\\ 2&4&2 \\\\ 1&2&1 \\end{bmatrix}\n",
    "$$ "
   ]
  },
  {
   "cell_type": "code",
   "execution_count": null,
   "metadata": {
    "scrolled": false
   },
   "outputs": [],
   "source": [
    "lh = dm.bayer_downsample(kodak[17])\n",
    "interp[\"bilinear\"] = dm.demosaic_bilinear(lh)\n",
    "lhc = interp[\"bilinear\"][(*crop,)]\n",
    "dm.show_images([*list(map(lambda i: dm.color_channel(lhc,i), [0,1,2])),lhc], layouts='15', bgr2rgb=True)\n",
    "dm.show_images([kodak[17][crop], lhc, kodak[17][crop]-lhc], descriptions=['original','bilinear', 'diff'], layouts='13', bgr2rgb=True)"
   ]
  },
  {
   "cell_type": "markdown",
   "metadata": {},
   "source": [
    "## Performance Metrics\n",
    "\n",
    "+ MSE \n",
    "+ PSNR https://en.wikipedia.org/wiki/Peak_signal-to-noise_ratio"
   ]
  },
  {
   "cell_type": "code",
   "execution_count": null,
   "metadata": {},
   "outputs": [],
   "source": [
    "dm.psnr(kodak[17], interp['bilinear'])"
   ]
  },
  {
   "cell_type": "markdown",
   "metadata": {},
   "source": [
    "## OpenCV's demosaic method \n",
    "\n",
    "- [reference](https://docs.opencv.org/3.1.0/d7/d1b/group__imgproc__misc.html#gga4e0972be5de079fed4e3a10e24ef5ef0a8945844ab075687f4d4196abe1ce0db4)\n",
    "    - bilinear\n",
    "    - variable number of gradients\n",
    "    - edge-aware"
   ]
  },
  {
   "cell_type": "code",
   "execution_count": null,
   "metadata": {},
   "outputs": [],
   "source": [
    "demosaic_opencv = [\n",
    "    ('opencv_bilinear', cv.COLOR_BayerBG2BGR),\n",
    "    ('opencv_vng', cv.COLOR_BayerBG2BGR_VNG),\n",
    "    ('opencv_edge_aware', cv.COLOR_BayerBG2BGR_EA)\n",
    "]\n",
    "lh = dm.bayer_downsample(kodak[17])\n",
    "lh = np.sum(lh, axis=2, dtype=np.uint8)\n",
    "for k,code in demosaic_opencv:\n",
    "    interp[k] = cv.cvtColor(lh, code)\n",
    "\n",
    "for k,img in interp.items():\n",
    "    psnr = dm.psnr(interp[\"original\"], img)\n",
    "    print(f'{k:<20}\\t{psnr}')\n",
    "\n",
    "desc, imgs = zip(*list(interp.items()))\n",
    "dm.show_images([img[(*crop,)] for img in imgs], desc, layouts='15', bgr2rgb=True)"
   ]
  },
  {
   "cell_type": "markdown",
   "metadata": {},
   "source": [
    "## check performance metric over kodak dataset"
   ]
  },
  {
   "cell_type": "code",
   "execution_count": null,
   "metadata": {},
   "outputs": [],
   "source": [
    "demosaic_algos = [\n",
    "    ('bilinear',            dm.demosaic_bilinear),\n",
    "    ('opencv_bilinear',     lambda x: cv.cvtColor(x, cv.COLOR_BayerBG2BGR)),\n",
    "    ('opencv_vng',          lambda x: cv.cvtColor(x, cv.COLOR_BayerBG2BGR_VNG)),\n",
    "    ('opencv_edge_aware',   lambda x: cv.cvtColor(x, COLOR_BayerBG2BGR_EA))\n",
    "]\n",
    "\n",
    "history = {}\n",
    "\n",
    "for algo, f in demosaic_algos:\n",
    "    history[algo] = dm.validate_kodak(f)\n",
    "    print(f\"{algo:>20}\\t{np.mean(history[algo]['psnr'])}\")\n",
    "    \n",
    "\n",
    "\n",
    "# opencv_linear = dm.validate_kodak(lambda x: cv.cvtColor(x, cv.COLOR_BayerBG2BGR))\n",
    "    g\n",
    "# lh = dm.bayer_downsample(kodak[17])\n",
    "# lh = np.sum(lh, axis=2, dtype=np.uint8)\n",
    "# for k,code in demosaic_opencv:\n",
    "#     interp[k] = cv.cvtColor(lh, code)\n",
    "\n",
    "# for k,img in interp.items():\n",
    "#     psnr = dm.psnr(interp[\"original\"], img)\n",
    "#     print(f'{k:<20}\\t{psnr}')\n"
   ]
  },
  {
   "cell_type": "code",
   "execution_count": null,
   "metadata": {},
   "outputs": [],
   "source": [
    "plt.hist(opencv_linear['psnrs'])"
   ]
  },
  {
   "cell_type": "code",
   "execution_count": null,
   "metadata": {},
   "outputs": [],
   "source": []
  }
 ],
 "metadata": {
  "kernelspec": {
   "display_name": "Python [conda env:cv_project] *",
   "language": "python",
   "name": "conda-env-cv_project-py"
  },
  "language_info": {
   "codemirror_mode": {
    "name": "ipython",
    "version": 3
   },
   "file_extension": ".py",
   "mimetype": "text/x-python",
   "name": "python",
   "nbconvert_exporter": "python",
   "pygments_lexer": "ipython3",
   "version": "3.7.3"
  }
 },
 "nbformat": 4,
 "nbformat_minor": 2
}
