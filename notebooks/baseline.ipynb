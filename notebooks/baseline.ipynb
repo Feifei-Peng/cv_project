{
 "cells": [
  {
   "cell_type": "code",
   "execution_count": null,
   "metadata": {},
   "outputs": [],
   "source": [
    "import sys; sys.path.append('..')\n",
    "import demosaicing as dm\n",
    "import importlib; importlib.reload(dm)\n",
    "\n",
    "import os\n",
    "import cv2 as cv\n",
    "import numpy as np\n",
    "import matplotlib.pyplot as plt\n",
    "plt.rcParams['figure.figsize'] = (20,20)"
   ]
  },
  {
   "cell_type": "code",
   "execution_count": null,
   "metadata": {
    "scrolled": false
   },
   "outputs": [],
   "source": [
    "kodak_dir = \"../data/kodak/\"\n",
    "kodak = dm.kodak_dataset(kodak_dir)\n",
    "crop = slice(500,600),slice(300,400)\n",
    "dm.show_images([kodak[18], kodak[18][crop]], layouts='12', bgr2rgb=True)"
   ]
  },
  {
   "cell_type": "code",
   "execution_count": null,
   "metadata": {},
   "outputs": [],
   "source": [
    "interp = {\n",
    "    'original': kodak[18].copy()\n",
    "}"
   ]
  },
  {
   "cell_type": "markdown",
   "metadata": {},
   "source": [
    "## Spatial downsampling\n",
    "\n",
    "Spatially downsample according to bayer pattern \n",
    "\n",
    "$$\n",
    "B \\quad G\n",
    "$$\n",
    "$$\n",
    "G \\quad R\n",
    "$$"
   ]
  },
  {
   "cell_type": "code",
   "execution_count": null,
   "metadata": {
    "scrolled": true
   },
   "outputs": [],
   "source": [
    "lh = dm.bayer_downsample(kodak[18])\n",
    "lhc = lh[350:400,200:250,:]\n",
    "dm.show_images([*list(map(lambda i: dm.color_channel(lhc,i), [0,1,2])), lhc], layouts='14', bgr2rgb=True)"
   ]
  },
  {
   "cell_type": "markdown",
   "metadata": {},
   "source": [
    "## Performance Metrics\n",
    "\n",
    "+ MSE \n",
    "+ PSNR https://en.wikipedia.org/wiki/Peak_signal-to-noise_ratio"
   ]
  },
  {
   "cell_type": "code",
   "execution_count": null,
   "metadata": {},
   "outputs": [],
   "source": [
    "downsampled = np.sum(dm.bayer_downsample(kodak[18]), axis=2, dtype=np.uint8)\n",
    "dm.psnr(kodak[18], cv.cvtColor(downsampled, cv.COLOR_BayerBG2BGR))"
   ]
  },
  {
   "cell_type": "markdown",
   "metadata": {},
   "source": [
    "## OpenCV's demosaic method \n",
    "\n",
    "- [reference](https://docs.opencv.org/3.1.0/d7/d1b/group__imgproc__misc.html#gga4e0972be5de079fed4e3a10e24ef5ef0a8945844ab075687f4d4196abe1ce0db4)\n",
    "    - bilinear\n",
    "    - variable number of gradients\n",
    "    - edge-aware"
   ]
  },
  {
   "cell_type": "code",
   "execution_count": null,
   "metadata": {},
   "outputs": [],
   "source": [
    "demosaic_opencv = [\n",
    "    ('opencv_bilinear', cv.COLOR_BayerBG2BGR),\n",
    "    ('opencv_vng', cv.COLOR_BayerBG2BGR_VNG),\n",
    "    ('opencv_edge_aware', cv.COLOR_BayerBG2BGR_EA)\n",
    "]\n",
    "lh = dm.bayer_downsample(kodak[18])\n",
    "lh = np.sum(lh, axis=2, dtype=np.uint8)\n",
    "for k,code in demosaic_opencv:\n",
    "    interp[k] = cv.cvtColor(lh, code)\n",
    "\n",
    "for k,img in interp.items():\n",
    "    psnr = dm.psnr(interp[\"original\"], img)\n",
    "    print(f'{k:<20}\\t{psnr}')\n",
    "\n",
    "desc, imgs = zip(*list(interp.items()))\n",
    "dm.show_images([img[(*crop,)] for img in imgs], desc, layouts='15', bgr2rgb=True)"
   ]
  },
  {
   "cell_type": "markdown",
   "metadata": {},
   "source": [
    "# bilinear interpolation \n",
    "\n",
    "+ slides: http://www.dmi.unict.it/~battiato/mm1112/Parte%207.3%20%20-%20Demosaicing.pdf\n",
    "\n",
    "The interpolated green intensity $G_{i,j}$ is simply the average of its immediate neighbors\n",
    "\n",
    "$$\n",
    "G_{i,j} = \\frac{1}{4} \\left( G_{i-1,j} + G_{i+1,j} + G_{i,j-1} + G_{i,j+1} \\right)\n",
    "$$\n",
    "\n",
    "Similarly for red/blue intensities. The interpolation proceeds independently within each channel.\n",
    "\n",
    "We can efficiently implement this method by convolution with 3x3 kernels over each of 3 color channels\n",
    "\n",
    "$$\n",
    "K_G = \\frac{1}{4} \\begin{bmatrix} 0&1&0 \\\\ 1&4&1 \\\\ 0&1&0 \\end{bmatrix}\n",
    "\\quad\\quad\n",
    "K_R = K_B = \\frac{1}{4} \\begin{bmatrix} 1&2&1 \\\\ 2&4&2 \\\\ 1&2&1 \\end{bmatrix}\n",
    "$$ "
   ]
  },
  {
   "cell_type": "code",
   "execution_count": null,
   "metadata": {
    "scrolled": false
   },
   "outputs": [],
   "source": [
    "lh = dm.bayer_downsample(kodak[18])\n",
    "interp[\"bilinear\"] = dm.demosaic_bilinear(lh)\n",
    "lhc = interp[\"bilinear\"][(*crop,)]\n",
    "dm.show_images([*list(map(lambda i: dm.color_channel(lhc,i), [0,1,2])),lhc], layouts='15', bgr2rgb=True)\n",
    "dm.show_images([kodak[18][crop], lhc, kodak[18][crop]-lhc], descriptions=['original','bilinear', 'diff'], layouts='13', bgr2rgb=True)"
   ]
  },
  {
   "cell_type": "markdown",
   "metadata": {},
   "source": [
    "## Validation over Kodak dataset"
   ]
  },
  {
   "cell_type": "code",
   "execution_count": null,
   "metadata": {
    "scrolled": false
   },
   "outputs": [],
   "source": [
    "demosaic_algos = [\n",
    "    ('opencv_bilinear',     lambda x: cv.cvtColor(x, cv.COLOR_BayerBG2BGR)),\n",
    "    ('opencv_vng',          lambda x: cv.cvtColor(x, cv.COLOR_BayerBG2BGR_VNG)),\n",
    "    ('opencv_edge_aware',   lambda x: cv.cvtColor(x, cv.COLOR_BayerBG2BGR_EA)),\n",
    "    ('bilinear',            dm.demosaic_bilinear),\n",
    "    ('smooth_hue_linear',   lambda x: dm.demosaic_smooth_hue(x,log_space=False)),\n",
    "    ('smooth_hue_log',      lambda x: dm.demosaic_smooth_hue(x,log_space=True)),\n",
    "    ('median_filter_linear',   lambda x: dm.demosaic_median_filter(x,log_space=False)),\n",
    "    ('median_filter_log',      lambda x: dm.demosaic_median_filter(x,log_space=True)),   \n",
    "]\n",
    "\n",
    "history = {}\n",
    "print(f\"{'method':>20}\\t{'mean_pnsr':>20}\\t{'median_psnr':>20}\")\n",
    "for algo, f in demosaic_algos:\n",
    "    history[algo] = dm.validate_kodak(f)\n",
    "    print(f\"{algo:>20}\\t{np.mean(history[algo]['psnr']):>20.3f}\\t{np.median(history[algo]['psnr']):>20.3f}\")"
   ]
  },
  {
   "cell_type": "code",
   "execution_count": null,
   "metadata": {},
   "outputs": [],
   "source": [
    "img_number = [18,19,22]\n",
    "print(f\"{'method':>20}\"+\"\".join([f\"{i:>20}\" for i in img_number]))\n",
    "for algo,hist in history.items():\n",
    "    d = \"\"\n",
    "    for i in img_number:\n",
    "        d = d + f\"{np.mean(hist['psnr'][i]):>20.3f}\"\n",
    "    print(f\"{algo:>20}\\t\"+d)"
   ]
  },
  {
   "cell_type": "markdown",
   "metadata": {},
   "source": [
    "## Contant Huse-based Interpolation\n",
    "- review: https://pdfs.semanticscholar.org/28c8/99ab34b6dd91d10474b5635eec6a97b8e3fa.pdf\n",
    "- contant hue: https://patents.google.com/patent/US4642678A/en\n",
    "\n",
    "Linear interpolation fail at edges, introduces color fringes; want a method to mitigate this. One simplifying imaging model states that __hue__ of an image changes smoothly. Hue is a property of color with respect to human perception, which in the patent is defined to be ratios of chrominance values to luminance values $(R/G, B/G)$. G is also called the luminance channel because the luminance response curve of eye peaks at around frequency of green light (~500nm)\n",
    "\n",
    "The algorithm\n",
    "+ interpolate $G$\n",
    "+ compute hue for $R$,$B$ channels at subsampled locations\n",
    "+ interpolate hue for all pixels in $R$,$B$ channels\n",
    "+ determine chrominance $R$,$B$ from hue\n",
    "$$\n",
    "R_{ij} = G_{ij} \\left( \\frac{1}{4} \\sum_{(k,l) \\in \\mathsf{N}(i,j)} \\frac{R_{kl}}{G_{kl}} \\right)\n",
    "$$"
   ]
  },
  {
   "cell_type": "code",
   "execution_count": null,
   "metadata": {},
   "outputs": [],
   "source": [
    "fs = [dm.demosaic_bilinear, dm.demosaic_smooth_hue]\n",
    "dm.demosaic_compare(kodak[18], fs, crop=crop)"
   ]
  },
  {
   "cell_type": "markdown",
   "metadata": {},
   "source": [
    "## Constant Hue-based that uses median filter over hue\n",
    "- review: https://pdfs.semanticscholar.org/28c8/99ab34b6dd91d10474b5635eec6a97b8e3fa.pdf\n",
    "\n",
    "The algorithm\n",
    "  - interpolate `G`\n",
    "  - compute hue for `R`,`B` channels at subsampled locations\n",
    "  - interpolate hue for all pixels in `R`,`B` channels\n",
    "  - determine chrominance `R`,`B` from hue"
   ]
  },
  {
   "cell_type": "code",
   "execution_count": null,
   "metadata": {},
   "outputs": [],
   "source": [
    "fs = [dm.demosaic_smooth_hue, dm.demosaic_median_filter]\n",
    "dm.demosaic_compare(kodak[18], fs, crop=crop)"
   ]
  },
  {
   "cell_type": "markdown",
   "metadata": {},
   "source": [
    "## Laplacian-Corrected Interpolation\n",
    "- paper: https://ieeexplore.ieee.org/stamp/stamp.jsp?arnumber=1326587\n",
    "- summary: https://www.ipol.im/pub/art/2011/g_mhcd/article.pdf\n",
    "- matlab `demosaic`: https://stanford.edu/class/ee367/slides/lecture4.pdf\n"
   ]
  },
  {
   "cell_type": "code",
   "execution_count": null,
   "metadata": {},
   "outputs": [],
   "source": [
    "fs = [dm.demosaic_smooth_hue, demosaic_median_filter]\n",
    "dm.demosaic_compare(kodak[18], fs, crop=crop)"
   ]
  },
  {
   "cell_type": "code",
   "execution_count": null,
   "metadata": {},
   "outputs": [],
   "source": [
    "l=[1,2]\n",
    "l = map(lambda x: x+1,l)\n",
    "list(l)"
   ]
  },
  {
   "cell_type": "code",
   "execution_count": null,
   "metadata": {},
   "outputs": [],
   "source": []
  }
 ],
 "metadata": {
  "kernelspec": {
   "display_name": "Python [conda env:cv_project] *",
   "language": "python",
   "name": "conda-env-cv_project-py"
  },
  "language_info": {
   "codemirror_mode": {
    "name": "ipython",
    "version": 3
   },
   "file_extension": ".py",
   "mimetype": "text/x-python",
   "name": "python",
   "nbconvert_exporter": "python",
   "pygments_lexer": "ipython3",
   "version": "3.7.3"
  }
 },
 "nbformat": 4,
 "nbformat_minor": 2
}
