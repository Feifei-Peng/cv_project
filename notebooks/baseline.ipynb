{
 "cells": [
  {
   "cell_type": "code",
   "execution_count": null,
   "metadata": {},
   "outputs": [],
   "source": [
    "import sys; sys.path.append('..')\n",
    "import demosaicing as dm\n",
    "import importlib; importlib.reload(dm)\n",
    "\n",
    "import os\n",
    "import cv2 as cv\n",
    "import numpy as np\n",
    "import matplotlib.pyplot as plt\n",
    "plt.rcParams['figure.figsize'] = (20,20)"
   ]
  },
  {
   "cell_type": "code",
   "execution_count": null,
   "metadata": {},
   "outputs": [],
   "source": [
    "kodak_dir = \"../data/kodak/\"\n",
    "kodak_images = list(map(lambda x: f'{kodak_dir}{x}', os.listdir(kodak_dir)))\n",
    "kodak = list(map(lambda x: cv.imread(x, -1), kodak_images))\n",
    "crop = slice(500,600),slice(300,400)\n",
    "dm.show_images([kodak[17], kodak[17][crop]], layouts='12', bgr2rgb=True)"
   ]
  },
  {
   "cell_type": "markdown",
   "metadata": {},
   "source": [
    "## Spatial downsampling\n",
    "\n",
    "Spatially downsample according to bayer pattern \n",
    "\n",
    "$$\n",
    "B \\quad G\n",
    "$$\n",
    "$$\n",
    "G \\quad R\n",
    "$$"
   ]
  },
  {
   "cell_type": "code",
   "execution_count": null,
   "metadata": {},
   "outputs": [],
   "source": [
    "img = np.ones((100,100,3), dtype=np.uint8) + 254\n",
    "dm.show_images(list(map(lambda i: dm.color_channel(img,i), [0,1,2])), layouts='13', bgr2rgb=True)"
   ]
  },
  {
   "cell_type": "code",
   "execution_count": null,
   "metadata": {},
   "outputs": [],
   "source": [
    "img = np.ones((100,100,3), dtype=np.uint8) + 254\n",
    "img = dm.bayer_downsample(img)\n",
    "dm.show_images(list(map(lambda i: dm.color_channel(img,i), [0,1,2])), layouts='13', bgr2rgb=True)"
   ]
  },
  {
   "cell_type": "code",
   "execution_count": null,
   "metadata": {
    "scrolled": true
   },
   "outputs": [],
   "source": [
    "lh = dm.bayer_downsample(lh)\n",
    "lhc = lh[350:400,200:250,:]\n",
    "dm.show_images([*list(map(lambda i: dm.color_channel(lhc,i), [0,1,2])), lhc], layouts='14', bgr2rgb=True)"
   ]
  },
  {
   "cell_type": "markdown",
   "metadata": {},
   "source": [
    "# bilinear interpolation \n",
    "\n",
    "+ http://www.dmi.unict.it/~battiato/mm1112/Parte%207.3%20%20-%20Demosaicing.pdf\n",
    "\n",
    "The interpolated green intensity $G_{i,j}$ is simply the average of its immediate neighbors\n",
    "\n",
    "$$\n",
    "G_{i,j} = \\frac{1}{4} \\left( G_{i-1,j} + G_{i+1,j} + G_{i,j-1} + G_{i,j+1} \\right)\n",
    "$$\n",
    "\n",
    "Similarly for red/blue intensities. The interpolation proceeds independently within each channel.\n",
    "\n",
    "We can efficiently implement this method by convolution with 3x3 kernels over each of 3 color channels\n",
    "\n",
    "$$\n",
    "K_G = \\frac{1}{4} \\begin{bmatrix} 0&1&0 \\\\ 1&4&1 \\\\ 0&1&0 \\end{bmatrix}\n",
    "\\quad\\quad\n",
    "K_R = K_B = \\frac{1}{4} \\begin{bmatrix} 1&2&1 \\\\ 2&4&2 \\\\ 1&2&1 \\end{bmatrix}\n",
    "$$ "
   ]
  },
  {
   "cell_type": "code",
   "execution_count": null,
   "metadata": {
    "scrolled": false
   },
   "outputs": [],
   "source": [
    "lh = dm.bayer_downsample(kodak[17])\n",
    "lh = dm.demosaic_bilinear(lh)\n",
    "lhc = lh[(*crop,)]\n",
    "dm.show_images([*list(map(lambda i: dm.color_channel(lhc,i), [0,1,2])),lhc], layouts='15', bgr2rgb=True)\n",
    "dm.show_images([lhc, kodak[17][crop]], descriptions=['bilinear', 'original'], layouts='12', bgr2rgb=True)"
   ]
  },
  {
   "cell_type": "code",
   "execution_count": null,
   "metadata": {},
   "outputs": [],
   "source": [
    "attr(slice)"
   ]
  },
  {
   "cell_type": "code",
   "execution_count": null,
   "metadata": {},
   "outputs": [],
   "source": []
  }
 ],
 "metadata": {
  "kernelspec": {
   "display_name": "Python [conda env:cv_project] *",
   "language": "python",
   "name": "conda-env-cv_project-py"
  },
  "language_info": {
   "codemirror_mode": {
    "name": "ipython",
    "version": 3
   },
   "file_extension": ".py",
   "mimetype": "text/x-python",
   "name": "python",
   "nbconvert_exporter": "python",
   "pygments_lexer": "ipython3",
   "version": "3.7.3"
  }
 },
 "nbformat": 4,
 "nbformat_minor": 2
}
