{
 "cells": [
  {
   "cell_type": "code",
   "execution_count": null,
   "metadata": {},
   "outputs": [],
   "source": [
    "import yaml\n",
    "import json\n",
    "import numpy as np\n",
    "import matplotlib.pyplot as plt"
   ]
  },
  {
   "cell_type": "code",
   "execution_count": null,
   "metadata": {
    "scrolled": true
   },
   "outputs": [],
   "source": [
    "with open(\"demosaic_survey.yml\", 'r') as stream:\n",
    "    try:\n",
    "        data = yaml.safe_load(stream)\n",
    "    except yaml.YAMLError as exc:\n",
    "        print(exc)"
   ]
  },
  {
   "cell_type": "code",
   "execution_count": null,
   "metadata": {},
   "outputs": [],
   "source": [
    "def md_header(s, size=1):\n",
    "    return f\"{'#'*size} {s}\"\n",
    "\n",
    "def md_bullet(s, indent=0):\n",
    "    return f\"{' '*indent}- {s}\"\n",
    "\n",
    "def md_url(text, link):\n",
    "    return f\"[{text}]({link})\"\n",
    "\n",
    "def md_subsection(d, key, indent=0):\n",
    "    if key in d:\n",
    "        return [md_bullet(key,indent)] + [md_bullet(line,indent+4) for line in d[key]]\n",
    "    else:\n",
    "        return []\n",
    "    \n",
    "def md_table(row_text,col_text,values):\n",
    "    \n",
    "    assert((len(row_text), len(col_text)) == values.shape)\n",
    "    \n",
    "    def a_row(l):\n",
    "        return '| ' + '| '.join(l) + '|'\n",
    "    \n",
    "    def separator(n_cols):\n",
    "        return ':-----:'.join(['|' for _ in range(n_cols+1)])\n",
    "    \n",
    "    rows = [a_row([' '] + col_text), separator(len(col_text)+1)]\n",
    "    for i in range(len(row_text)):\n",
    "        vs = [str(v) for v in values[i,:]]\n",
    "        rows.append(a_row([row_text[i]] + vs))\n",
    "        \n",
    "    return rows"
   ]
  },
  {
   "cell_type": "code",
   "execution_count": null,
   "metadata": {},
   "outputs": [],
   "source": [
    "shorts = [d['short'] for d in data]\n",
    "shorts_to_idx = {k:i for i,k in enumerate(shorts)}\n",
    "list(shorts_to_idx.keys()), len(shorts)"
   ]
  },
  {
   "cell_type": "code",
   "execution_count": null,
   "metadata": {
    "scrolled": true
   },
   "outputs": [],
   "source": [
    "n_papers = len(shorts)\n",
    "psnrs = [list(d['results'].keys()) for d in data if 'results' in d]\n",
    "psnrs = sum(psnrs, [])\n",
    "psnrs = list(set(psnrs))\n",
    "psnrs = filter(lambda x: x not in ['kodak_sigma15', 'mcm_sigma15'], psnrs)\n",
    "psnrs = {dataset:np.zeros((n_papers, n_papers)) for dataset in psnrs}\n",
    "list(psnrs.keys())"
   ]
  },
  {
   "cell_type": "code",
   "execution_count": null,
   "metadata": {
    "scrolled": false
   },
   "outputs": [],
   "source": [
    "for i, paper in enumerate(shorts):\n",
    "    d = data[i]\n",
    "    if 'results' not in d:\n",
    "        continue\n",
    "        \n",
    "    js = list(map(lambda x: shorts_to_idx[x], d['compare_to']))\n",
    "    \n",
    "    for k,v in psnrs.items():\n",
    "        if k in d['results']:\n",
    "            psnrs[k][i,js] = d['results'][k]\n",
    "            \n",
    "            \n",
    "        \n",
    "# remove entries with zero col and row\n",
    "tables = []\n",
    "    \n",
    "for k in sorted(psnrs):\n",
    "    A = psnrs[k]\n",
    "    nonzero_rows = np.where(A.any(axis=1))[0]\n",
    "    nonzero_cols = np.where(A.any(axis=0))[0]\n",
    "    row_text = [shorts[i] for i in range(len(shorts)) if i in nonzero_rows]\n",
    "    col_text = [shorts[i] for i in range(len(shorts)) if i in nonzero_cols]\n",
    "    A = A[nonzero_rows,:][:,nonzero_cols]\n",
    "    \n",
    "    table = md_table(row_text,col_text,A)\n",
    "    table = '\\n'.join(table)\n",
    "    table += '\\n'*4\n",
    "    \n",
    "    tables.append(md_header(k, size=2))\n",
    "    tables.append('\\n')\n",
    "    tables.append(table)\n",
    "    \n",
    "\n",
    "print('\\n'.join(tables))"
   ]
  },
  {
   "cell_type": "code",
   "execution_count": null,
   "metadata": {},
   "outputs": [],
   "source": [
    "\n",
    "analysis = [\n",
    "    md_header('Summary'),\n",
    "    '\\n',\n",
    "\"\"\"\n",
    "From reading some recent papers on demosaicing. It is obvious to see the following trends\n",
    "\n",
    "- utilizing neural networks in some capacity in solving the problem. This can range from learning image prior from data in some classical convex optimization frameowork such as ADMM (2017_learned_proximal_operators) to end-to-end training on large datasets for demosaicing [2018_deepdemosaicking, 2019_deepisp]. \n",
    "- joint optimization, bundling demosaicing with deblurring, superresolution, denoising [2016_deepjoint, 2017_jointadmm, 2018_jointgan_perceptual, 2018_iterative_resnet_joint], etc. To the extreme, the entire image processing pipeline is under one single framework [2014_flexISP, 2019_deepisp]\n",
    "\n",
    "I think [2017_learned_proximal_operators, 2017_RED, 2018_iterative_resnet_joint] are most applicable for our project. The idea of these methods is to formulate demosaicing as an inverse problems. The image priors are learnt from data and acts as regularizers in the optimization problem. The benefit of such method is given as follows\n",
    "\n",
    "- does not require large datasets that deep neural network methods rely on. Usually, small dataset of at most several hundred images is enough to give promising results\n",
    "- the image priors, i.e. total variation, cross-channel correlation, are learnt from data. \n",
    "    - they are not ad hoc, and heuristic based\n",
    "    - the priors can be learnt for different downstream reconstruction tasks, i.e. multispectral imaging and structured light\n",
    "\n",
    "There are however problems, for example\n",
    "\n",
    "- convergence is not guaranteed for nonconvex regularizers.\n",
    "\n",
    "    - there is some work by [2017_RED] that under some assumptions that most denoising method satisfies, the method is guaranteed to converge.\n",
    "    - there is some theory used by [this paper](http://openaccess.thecvf.com/content_ICCV_2017/papers/Chang_One_Network_to_ICCV_2017_paper.pdf) which states that under certain assumptions, nonconvex regularizers converges to stationary points\n",
    "\n",
    "- runtime is slower than interpolation based or purely neural network based methods\n",
    " \n",
    "\n",
    "\"\"\",\n",
    "    '\\n'\n",
    "]\n",
    "\n",
    "\n",
    "tables_prefix = [\n",
    "    md_header('Demosaicing Method Performance'),\n",
    "    '\\n',\n",
    "    \"\"\"\n",
    "The following tables keep benchmarked the performance of demosaicing methods over a few datasets\n",
    "\n",
    "- `kodak`: 24 photos of size 768x512 or 512x768 (http://r0k.us/graphics/kodak/)\n",
    "- `mcm`: (https://www4.comp.polyu.edu.hk/~cslzhang/CDM_Dataset.htm)\n",
    "- `msr` (Microsoft dataset): 500 bayer images in both linear RGB and sRGB space (https://www.microsoft.com/en-us/download/details.aspx?id=52535)\n",
    "- `{kodak,mcm}_sigma20`: gaussian white noise of `\\sigma=20` is applied to test images\n",
    "\n",
    "Row `i` and column `j` of each table indicates the psnr of `j`-th method in `i`-th paper evaluated on a particular dataset\n",
    "    \"\"\"\n",
    "]"
   ]
  },
  {
   "cell_type": "code",
   "execution_count": null,
   "metadata": {},
   "outputs": [],
   "source": [
    "formatted = []\n",
    "for d in data:\n",
    "    title = [md_bullet(md_url(d['full'] + f\" ({d['short']})\", d['url']))]\n",
    "    notes  = md_subsection(d,'notes',indent=4)\n",
    "    remark = md_subsection(d,'remark',indent=4)\n",
    "    \n",
    "    dformatted = '\\n'.join(title+notes+remark)\n",
    "    dformatted += '\\n'*4\n",
    "    formatted.append(dformatted)\n",
    "\n",
    "formatted = analysis + tables_prefix + tables + [md_header('Paper summaries'), '\\n'] + formatted\n",
    "with open('demosaic_survey.md', 'w') as f:\n",
    "    f.write('\\n'.join(formatted))"
   ]
  },
  {
   "cell_type": "code",
   "execution_count": null,
   "metadata": {},
   "outputs": [],
   "source": []
  },
  {
   "cell_type": "code",
   "execution_count": null,
   "metadata": {},
   "outputs": [],
   "source": []
  }
 ],
 "metadata": {
  "kernelspec": {
   "display_name": "Python [conda env:cv_project] *",
   "language": "python",
   "name": "conda-env-cv_project-py"
  },
  "language_info": {
   "codemirror_mode": {
    "name": "ipython",
    "version": 3
   },
   "file_extension": ".py",
   "mimetype": "text/x-python",
   "name": "python",
   "nbconvert_exporter": "python",
   "pygments_lexer": "ipython3",
   "version": "3.7.3"
  }
 },
 "nbformat": 4,
 "nbformat_minor": 2
}
