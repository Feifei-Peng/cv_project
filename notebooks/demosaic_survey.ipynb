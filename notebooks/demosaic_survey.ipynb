{
 "cells": [
  {
   "cell_type": "code",
   "execution_count": null,
   "metadata": {},
   "outputs": [],
   "source": [
    "import yaml\n",
    "import json\n",
    "import numpy as np\n",
    "import matplotlib.pyplot as plt"
   ]
  },
  {
   "cell_type": "code",
   "execution_count": null,
   "metadata": {
    "scrolled": true
   },
   "outputs": [],
   "source": [
    "with open(\"demosaic_survey.yml\", 'r') as stream:\n",
    "    try:\n",
    "        data = yaml.safe_load(stream)\n",
    "    except yaml.YAMLError as exc:\n",
    "        print(exc)\n",
    "\n",
    "print(json.dumps(data,indent=4))"
   ]
  },
  {
   "cell_type": "code",
   "execution_count": null,
   "metadata": {},
   "outputs": [],
   "source": [
    "def bullet(s, indent=0):\n",
    "    return f\"{' '*indent}- {s}\"\n",
    "def url(text, link):\n",
    "    return f\"[{text}]({link})\"\n",
    "def subsection(d, key, indent=0):\n",
    "    if key in d:\n",
    "        return [bullet(key,indent)] + [bullet(line,indent+4) for line in d[key]]\n",
    "    else:\n",
    "        return []\n",
    "\n",
    "formatted = []\n",
    "for d in data:\n",
    "    title = [bullet(url(d['full'], d['url']))]\n",
    "    notes = subsection(d,'notes',indent=4)\n",
    "    remark = subsection(d,'remark',indent=4)\n",
    "    \n",
    "    dformatted = '\\n'.join(title+notes+remark)\n",
    "    dformatted += '\\n'*4\n",
    "    formatted.append(dformatted)\n",
    "    \n",
    "with open('demosaic_survey.md', 'w') as f:\n",
    "    f.write('\\n'.join(formatted))\n",
    "    "
   ]
  },
  {
   "cell_type": "code",
   "execution_count": null,
   "metadata": {},
   "outputs": [],
   "source": [
    "shorts = [d['short'] for d in data]\n",
    "shorts, len(shorts)"
   ]
  },
  {
   "cell_type": "code",
   "execution_count": null,
   "metadata": {},
   "outputs": [],
   "source": [
    "datasets = [list(d['results'].keys()) for d in data if 'results' in d]\n",
    "datasets = sum(datasets, [])\n",
    "datasets = list(set(datasets))\n",
    "datasets"
   ]
  },
  {
   "cell_type": "code",
   "execution_count": null,
   "metadata": {},
   "outputs": [],
   "source": [
    "A = np.zeros((len(shorts), len(shorts)))\n",
    "\n",
    "fig=plt.figure()\n",
    "ax = fig.add_subplot(111)\n",
    "ax.xaxis.set_visible(False)\n",
    "ax.yaxis.set_visible(False)\n",
    "ax.table(cellText=A,rowLabels=shorts,colLabels=shorts,loc='center',fontSize=20)\n",
    "plt.savefig('table.png')"
   ]
  },
  {
   "cell_type": "code",
   "execution_count": null,
   "metadata": {},
   "outputs": [],
   "source": []
  }
 ],
 "metadata": {
  "kernelspec": {
   "display_name": "Python [conda env:cv_project] *",
   "language": "python",
   "name": "conda-env-cv_project-py"
  },
  "language_info": {
   "codemirror_mode": {
    "name": "ipython",
    "version": 3
   },
   "file_extension": ".py",
   "mimetype": "text/x-python",
   "name": "python",
   "nbconvert_exporter": "python",
   "pygments_lexer": "ipython3",
   "version": "3.7.3"
  }
 },
 "nbformat": 4,
 "nbformat_minor": 2
}
