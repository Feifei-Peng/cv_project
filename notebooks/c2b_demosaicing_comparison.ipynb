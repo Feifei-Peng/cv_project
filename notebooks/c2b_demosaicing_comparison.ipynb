{
 "cells": [
  {
   "cell_type": "markdown",
   "metadata": {},
   "source": [
    "# Benchmarking demosaicing method on test dataset shot by C2B camera\n",
    "\n",
    "Given 10 scenes/objects shot in 4 different projector patterns and 3 frames $(S=4, F=3)$. We have a total of $10*4=40$ images. \n",
    "\n",
    "The ground truth image for each scene is the __left hand side__ of the following expression. The __left hand side__ of the following image can be thought of as __full-resolution demosaiced__ measurement of the two bucket assuming the camera is operating under\n",
    "+ The $S$ patterns / frame\n",
    "+ tiling and correspondence encoded in the code tensor $\\mathcal{C}_1$, i.e. code tensor slice for 1 frame\n",
    "\n",
    "The __right hand side__ image is a matrix multiple of \n",
    "+ full-resolution image of the $S$ patterns\n",
    "+ code tensor for bucket-{1,2}\n",
    "\n",
    "\n",
    "$$\n",
    "\\newcommand{\\hbar}{\\rule[.5ex]{2.5ex}{0.5pt}}\n",
    "\\newcommand{\\bi}{\\mathbf{i}}\n",
    "\\underbrace{\n",
    "    \\begin{pmatrix} \n",
    "    \\hbar & \\bi^1 & \\hbar & \\hat{\\bi}^1 & \\hbar \n",
    "    \\\\ &&\\vdots&& \\\\ \n",
    "    \\hbar & \\bi^P & \\hbar & \\hat{\\bi}^P & \\hbar\n",
    "    \\end{pmatrix}\n",
    "}_{P \\times 2F}\n",
    "=\n",
    "\\underbrace{\n",
    "    \\begin{pmatrix} \n",
    "    \\hbar & i^1 & \\hbar \n",
    "    \\\\ &\\vdots& \\\\ \n",
    "    \\hbar & i^P & \\hbar\n",
    "    \\end{pmatrix}\n",
    "}_{P \\times S}\n",
    "\\underbrace{\n",
    "    \\begin{pmatrix}\n",
    "    \\mathbf{C}^p \\\\\n",
    "    \\mathbf{\\overline{C}}^p\n",
    "    \\end{pmatrix}^T\n",
    "}_{S \\times 2F}\n",
    "$$\n",
    "\n",
    "where $P$ is the number of pixels in one image and the code matrix $\\mathbf{C}^p$ is same for all pixels\n",
    "\n",
    "$$\n",
    "\\mathbf{C}^p\n",
    "=\n",
    "\\begin{pmatrix}\n",
    "    1 & 1 & 0 & 0 \\\\\n",
    "    1 & 0 & 1 & 0 \\\\\n",
    "    1 & 0 & 0 & 1 \\\\\n",
    "\\end{pmatrix}\n",
    "$$\n",
    "\n",
    "In the end, we obtain $2F=20$ full-resolution images, 2 bucket images for each of 10 scenes for demosaicing comparison. We downsample them according to bayer pattern, and run demosaicing algorithms over the 20 images\n"
   ]
  },
  {
   "cell_type": "code",
   "execution_count": null,
   "metadata": {},
   "outputs": [],
   "source": [
    "import sys; sys.path.append('..')\n",
    "import demosaicing as dm\n",
    "import importlib; importlib.reload(dm)\n",
    "\n",
    "import os\n",
    "import re\n",
    "import cv2 as cv\n",
    "import numpy as np\n",
    "from scipy.linalg import hadamard\n",
    "import glob\n",
    "import matplotlib.pyplot as plt\n",
    "plt.rcParams['figure.figsize'] = (20,20)"
   ]
  },
  {
   "cell_type": "code",
   "execution_count": null,
   "metadata": {},
   "outputs": [],
   "source": [
    "topdir = \"../data/exp60\"\n",
    "imgdir = os.path.join(topdir, 'organized')\n",
    "S = 4\n",
    "F = 3\n",
    "n_scenes = 10\n",
    "test_scene = 'bowl'\n",
    "imgsize = 176, 288\n",
    "P = imgsize[0]*imgsize[1]"
   ]
  },
  {
   "cell_type": "code",
   "execution_count": null,
   "metadata": {},
   "outputs": [],
   "source": [
    "imgpaths = sorted(glob.glob(imgdir+'/*.png'))\n",
    "assert(len(imgpaths) == 10*S)\n",
    "\n",
    "# {scene: (176, 288, S)}\n",
    "scenes = {}\n",
    "\n",
    "for imgpath in imgpaths:\n",
    "    m = re.search(r'([a-z]*)_(\\d).png',imgpath)\n",
    "    assert(m is not None)\n",
    "    scene = m[1]\n",
    "    pattern_id = int(m[2])\n",
    "    \n",
    "    img = cv.imread(imgpath,cv.IMREAD_GRAYSCALE) / 255\n",
    "    if scene not in scenes:\n",
    "        scenes[scene] = np.zeros((*np.shape(img),S))\n",
    "    scenes[scene][:,:,pattern_id] = img\n",
    "    \n",
    "scenes.keys()"
   ]
  },
  {
   "cell_type": "code",
   "execution_count": null,
   "metadata": {
    "scrolled": true
   },
   "outputs": [],
   "source": [
    "dm.show_grayscale(np.hstack([scenes[test_scene][:,:,i] for i in range(S)]))"
   ]
  },
  {
   "cell_type": "code",
   "execution_count": null,
   "metadata": {},
   "outputs": [],
   "source": [
    "C = (hadamard(S)+1)/2\n",
    "C = C[1:,:]\n",
    "W = np.vstack((C,1-C))\n",
    "W"
   ]
  },
  {
   "cell_type": "code",
   "execution_count": null,
   "metadata": {},
   "outputs": [],
   "source": [
    "# {c2bimgs: (2, 176, 288, 3)}\n",
    "c2bimgs = {}\n",
    "test_imgs = []\n",
    "\n",
    "for scene,img in scenes.items():    \n",
    "    c2bimg  = np.reshape(img,(-1,4)) @ W.T\n",
    "    bucket1 = np.reshape(c2bimg[:,0:F],   (*imgsize,F))\n",
    "    bucket2 = np.reshape(c2bimg[:,F:2*F], (*imgsize,F))\n",
    "\n",
    "    assert(np.max(bucket1) <= 2 and np.min(bucket1) >= 0)\n",
    "    assert(np.max(bucket2) <= 2 and np.min(bucket2) >= 0)\n",
    "    print(f'{scene}\\t({np.min(bucket1)}, {np.max(bucket1)})')\n",
    "    \n",
    "    c2bimgs[scene] = np.zeros((2,*imgsize,F), dtype=np.uint8)\n",
    "    c2bimgs[scene][0,:,:,:] = np.clip(bucket1*255/2,0,255)\n",
    "    c2bimgs[scene][1,:,:,:] = np.clip(bucket2*255/2,0,255)\n",
    "    \n",
    "    test_imgs += [c2bimgs[scene][0,:,:,:], c2bimgs[scene][1,:,:,:]]\n",
    "    \n",
    "len(test_imgs)"
   ]
  },
  {
   "cell_type": "code",
   "execution_count": null,
   "metadata": {},
   "outputs": [],
   "source": [
    "dm.show_grayscale(np.vstack((\n",
    "    np.hstack([c2bimgs[test_scene][0,:,:,i] for i in range(3)]),\n",
    "    np.hstack([c2bimgs[test_scene][1,:,:,i] for i in range(3)]),\n",
    ")))"
   ]
  },
  {
   "cell_type": "code",
   "execution_count": null,
   "metadata": {},
   "outputs": [],
   "source": [
    "demosaic_algos = [\n",
    "    ('opencv_bilinear',     lambda x: cv.cvtColor(x, cv.COLOR_BayerBG2BGR)),\n",
    "    ('opencv_vng',          lambda x: cv.cvtColor(x, cv.COLOR_BayerBG2BGR_VNG)),\n",
    "    ('opencv_edge_aware',   lambda x: cv.cvtColor(x, cv.COLOR_BayerBG2BGR_EA)),\n",
    "    ('bilinear',            dm.demosaic_bilinear),\n",
    "    ('smooth_hue',          dm.demosaic_smooth_hue),\n",
    "    ('median_filter',       dm.demosaic_median_filter),   \n",
    "    ('laplacian_corrected', dm.demosaic_laplacian_corrected)\n",
    "]\n",
    "\n",
    "history = {}\n",
    "print(f\"{'method':>20}\\t{'mean_pnsr':>20}\\t{'median_psnr':>20}\")\n",
    "for algo, f in demosaic_algos:\n",
    "    history[algo] = dm.validate_imgs(f, test_imgs)\n",
    "    print(f\"{algo:>20}\\t{np.mean(history[algo]['psnr']):>20.3f}\\t{np.median(history[algo]['psnr']):>20.3f}\")"
   ]
  },
  {
   "cell_type": "code",
   "execution_count": null,
   "metadata": {},
   "outputs": [],
   "source": []
  }
 ],
 "metadata": {
  "kernelspec": {
   "display_name": "Python [conda env:cv_project] *",
   "language": "python",
   "name": "conda-env-cv_project-py"
  },
  "language_info": {
   "codemirror_mode": {
    "name": "ipython",
    "version": 3
   },
   "file_extension": ".py",
   "mimetype": "text/x-python",
   "name": "python",
   "nbconvert_exporter": "python",
   "pygments_lexer": "ipython3",
   "version": "3.7.3"
  }
 },
 "nbformat": 4,
 "nbformat_minor": 2
}
