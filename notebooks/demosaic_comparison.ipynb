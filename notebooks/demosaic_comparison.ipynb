{
 "cells": [
  {
   "cell_type": "code",
   "execution_count": null,
   "metadata": {},
   "outputs": [],
   "source": [
    "import sys; sys.path.append('..')\n",
    "import demosaicing as dm\n",
    "import importlib; importlib.reload(dm)\n",
    "\n",
    "import os\n",
    "import cv2 as cv\n",
    "import numpy as np\n",
    "import matplotlib.pyplot as plt\n",
    "plt.rcParams['figure.figsize'] = (20,20)"
   ]
  },
  {
   "cell_type": "code",
   "execution_count": null,
   "metadata": {},
   "outputs": [],
   "source": [
    "kodak_dir = \"../data/kodak/\"\n",
    "kodak = dm.kodak_dataset(kodak_dir)\n",
    "crop = slice(500,600),slice(300,400)\n",
    "dm.show_images([kodak[18], kodak[18][crop]], layouts='12', bgr2rgb=True)"
   ]
  },
  {
   "cell_type": "markdown",
   "metadata": {},
   "source": [
    "## Validation over Kodak dataset"
   ]
  },
  {
   "cell_type": "code",
   "execution_count": null,
   "metadata": {},
   "outputs": [],
   "source": [
    "demosaic_algos = [\n",
    "    ('opencv_bilinear',     lambda x: cv.cvtColor(x, cv.COLOR_BayerBG2BGR)),\n",
    "    ('opencv_vng',          lambda x: cv.cvtColor(x, cv.COLOR_BayerBG2BGR_VNG)),\n",
    "    ('opencv_edge_aware',   lambda x: cv.cvtColor(x, cv.COLOR_BayerBG2BGR_EA)),\n",
    "    ('bilinear',            dm.demosaic_bilinear),\n",
    "    ('smooth_hue',          dm.demosaic_smooth_hue),\n",
    "    ('median_filter',       dm.demosaic_median_filter),   \n",
    "    ('laplacian_corrected', dm.demosaic_laplacian_corrected)\n",
    "]\n",
    "\n",
    "history = {}\n",
    "print(f\"{'method':>20}\\t{'mean_pnsr':>20}\\t{'median_psnr':>20}\")\n",
    "for algo, f in demosaic_algos:\n",
    "    history[algo] = dm.validate_imgs(f, kodak)\n",
    "    print(f\"{algo:>20}\\t{np.mean(history[algo]['psnr']):>20.3f}\\t{np.median(history[algo]['psnr']):>20.3f}\")"
   ]
  },
  {
   "cell_type": "code",
   "execution_count": null,
   "metadata": {},
   "outputs": [],
   "source": [
    "img_number = [18,19,22]\n",
    "print(f\"{'method':>20}\"+\"\".join([f\"{i:>20}\" for i in img_number]))\n",
    "for algo,hist in history.items():\n",
    "    d = \"\"\n",
    "    for i in img_number:\n",
    "        d = d + f\"{np.mean(hist['psnr'][i]):>20.3f}\"\n",
    "    print(f\"{algo:>20}\\t\"+d)"
   ]
  },
  {
   "cell_type": "markdown",
   "metadata": {},
   "source": [
    "## Robustnes of deomosaicing methods over additive gaussian noise\n",
    "\n",
    "+ Takeaway\n",
    "    + demosaicing methods deteriorates quickly with increasing noise levels\n",
    "    + methods compared are similarly performant at high $\\sigma$s',\n",
    "    + 39dB ($\\sigma$=1) -> 37 ($\\sigma$=12) -> 34 dB ($\\sigma$=20)"
   ]
  },
  {
   "cell_type": "code",
   "execution_count": null,
   "metadata": {},
   "outputs": [],
   "source": [
    "img = kodak[18]\n",
    "\n",
    "sigmas = [1,5,10,20]\n",
    "imgs = [img]\n",
    "desc = ['original']\n",
    "for i, sigma in enumerate(sigmas):\n",
    "    img_gn = dm.additive_gaussian_noise(img,variance=sigma**2)\n",
    "    imgs.append(img_gn)\n",
    "    desc.append(f'$\\sigma = {sigma}$')\n",
    "\n",
    "crops = [img[(*crop,)] for img in imgs]\n",
    "dm.show_images(crops, desc, layouts='15', bgr2rgb=True)"
   ]
  },
  {
   "cell_type": "code",
   "execution_count": null,
   "metadata": {},
   "outputs": [],
   "source": [
    "demosaic_algos = [\n",
    "    ('opencv_bilinear',     lambda x: cv.cvtColor(x, cv.COLOR_BayerBG2BGR)),\n",
    "    ('opencv_vng',          lambda x: cv.cvtColor(x, cv.COLOR_BayerBG2BGR_VNG)),\n",
    "    ('opencv_edge_aware',   lambda x: cv.cvtColor(x, cv.COLOR_BayerBG2BGR_EA)),\n",
    "    ('bilinear',            dm.demosaic_bilinear),\n",
    "    ('smooth_hue',          dm.demosaic_smooth_hue),\n",
    "    ('median_filter',       dm.demosaic_median_filter),   \n",
    "    ('laplacian_corrected', dm.demosaic_laplacian_corrected)\n",
    "]\n",
    "\n",
    "sigmas = [1,5,10,20]\n",
    "history = {sigma: {} for sigma in sigmas}\n",
    "print(f\"{'method':>20}\\t{'mean_pnsr':>20}\\t{'median_psnr':>20}\")\n",
    "for sigma in sigmas:\n",
    "    print(f\"sigma={sigma}:\\n\")\n",
    "    dataset = list(map(lambda img: dm.additive_gaussian_noise(img, variance=sigma**2), kodak))\n",
    "    for algo, f in demosaic_algos:\n",
    "        history[sigma][algo] = dm.validate_imgs(f, dataset)\n",
    "        print(f\"{algo:>20}\\t{np.mean(history[sigma][algo]['psnr']):>20.3f}\\t{np.median(history[sigma][algo]['psnr']):>20.3f}\")"
   ]
  }
 ],
 "metadata": {
  "kernelspec": {
   "display_name": "Python [conda env:cv_project] *",
   "language": "python",
   "name": "conda-env-cv_project-py"
  },
  "language_info": {
   "codemirror_mode": {
    "name": "ipython",
    "version": 3
   },
   "file_extension": ".py",
   "mimetype": "text/x-python",
   "name": "python",
   "nbconvert_exporter": "python",
   "pygments_lexer": "ipython3",
   "version": "3.7.3"
  }
 },
 "nbformat": 4,
 "nbformat_minor": 2
}
