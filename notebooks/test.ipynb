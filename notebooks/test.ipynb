{
 "cells": [
  {
   "cell_type": "code",
   "execution_count": null,
   "metadata": {},
   "outputs": [],
   "source": [
    "import sys; sys.path.append('..')\n",
    "import demosaicing as dm\n",
    "import importlib; importlib.reload(dm)\n",
    "\n",
    "import os\n",
    "import cv2 as cv\n",
    "import numpy as np\n",
    "import matplotlib.pyplot as plt\n",
    "plt.rcParams['figure.figsize'] = (20,20)"
   ]
  },
  {
   "cell_type": "code",
   "execution_count": null,
   "metadata": {},
   "outputs": [],
   "source": [
    "kodak_dir = \"../data/kodak/\"\n",
    "kodak_images = list(map(lambda x: f'{kodak_dir}{x}', os.listdir(kodak_dir)))\n",
    "kodak = list(map(lambda x: cv.imread(x, -1), kodak_images))\n",
    "lh = kodak[17]\n",
    "dm.show_image(lh, bgr2rgb=True)"
   ]
  },
  {
   "cell_type": "code",
   "execution_count": null,
   "metadata": {},
   "outputs": [],
   "source": [
    "img = np.ones((100,100,3), dtype=np.uint8) + 254\n",
    "dm.show_images(list(map(lambda i: dm.color_channel(img,i), [0,1,2])), layouts='13', bgr2rgb=True)"
   ]
  },
  {
   "cell_type": "code",
   "execution_count": null,
   "metadata": {},
   "outputs": [],
   "source": [
    "img = np.ones((100,100,3), dtype=np.uint8) + 254\n",
    "img = dm.bayer_downsample(img)\n",
    "dm.show_images(list(map(lambda i: dm.color_channel(img,i), [0,1,2])), layouts='13', bgr2rgb=True)"
   ]
  },
  {
   "cell_type": "code",
   "execution_count": null,
   "metadata": {},
   "outputs": [],
   "source": [
    "lh = dm.bayer_downsample(lh)\n",
    "dm.show_images(list(map(lambda i: dm.color_channel(lh,i), [0,1,2])), layouts='13', bgr2rgb=True)"
   ]
  },
  {
   "cell_type": "code",
   "execution_count": null,
   "metadata": {},
   "outputs": [],
   "source": [
    "l = np.arange(0,32).reshape((4,8))[:,:,np.newaxis]\n",
    "l = np.tile(l, (1,1,3))\n",
    "l[:,:,0]"
   ]
  },
  {
   "cell_type": "code",
   "execution_count": null,
   "metadata": {},
   "outputs": [],
   "source": [
    "d = dm.bayer_downsample(l)\n",
    "d[:,:,2]"
   ]
  },
  {
   "cell_type": "code",
   "execution_count": null,
   "metadata": {},
   "outputs": [],
   "source": []
  }
 ],
 "metadata": {
  "kernelspec": {
   "display_name": "Python [conda env:cv_project] *",
   "language": "python",
   "name": "conda-env-cv_project-py"
  },
  "language_info": {
   "codemirror_mode": {
    "name": "ipython",
    "version": 3
   },
   "file_extension": ".py",
   "mimetype": "text/x-python",
   "name": "python",
   "nbconvert_exporter": "python",
   "pygments_lexer": "ipython3",
   "version": "3.7.3"
  }
 },
 "nbformat": 4,
 "nbformat_minor": 2
}
